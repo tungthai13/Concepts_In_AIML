{
 "cells": [
  {
   "cell_type": "markdown",
   "metadata": {
    "id": "AKoVenVVgFfe"
   },
   "source": [
    "## COMP SCI 7327 Concepts in Artificial Intelligence and Machine Learning -- Assignment 1\n",
    "\n"
   ]
  },
  {
   "cell_type": "markdown",
   "metadata": {
    "id": "kYzOUGXEgu_K"
   },
   "source": [
    "### Task 1： Explain the basic concepts (5 marks)\n",
    "\n",
    "1. ROC curve is a graphical plot that illustrates the diagnostic ability of a binary classifier system as its discrimination threshold is varied. Please explain how the ROC curve works in the binary classification (1 mark).\n",
    "\n",
    "2. Please describe what is cross-entropy and under what circumstances cross-entropy can be used (2 marks)?\n",
    "\n",
    "4. Please explain what are the similarities and differences of L1 loss and MSE loss in training a classifier (2 marks)?\n",
    "\n"
   ]
  },
  {
   "cell_type": "markdown",
   "metadata": {},
   "source": [
    "#### 1. ROC curve is a graphical plot that illustrates the diagnostic ability of a binary classifier system as its discrimination threshold is varied. Please explain how the ROC curve works in the binary classification\n",
    "\n",
    "A Receiver Operator Characteristic (ROC) graph provide a simle way to summarize all of the confusion matrices that each threshold produced. The y-axis shows the true positive rate (TPR) which is the same thing as sensitivity. The x-axis shows the false positive rate (FPR), which is the same thing as 1 - Specificity\n",
    "\n",
    "A ROC curve is constructed by plotting the TPR against the FPR. The ROC curve shows the trade-off between sensitivity and specificity. Classifiers that give curves closer to the top-left corner indicate a better performance. Based on the ROC curve, it is easy to find the most optimal threshold for binary classification depending on the acceptable FPR."
   ]
  },
  {
   "cell_type": "markdown",
   "metadata": {},
   "source": [
    "#### 2. Please describe what is cross-entropy and under what circumstances cross-entropy can be used?\n",
    "\n",
    "Cross entropy originated from information theory. If the cross-entropy is large then the probability the event will happen is low and vise versa. In machine learning, cross entropy is frequently used to measure how well a set of estimated class probabilities matches the target classes. The value of cross-entropy will grow very large if the predicted probability for the true class is close to 0. In an other words, the high value of cross-entropy means bad models and a low value of cross-entropy means a good model.\n",
    "\n",
    "Cross-entropy is commonly used as a cost function when training classification models because it minimizes the the distance between two probability distributions (predicted and actual distributions)."
   ]
  },
  {
   "cell_type": "markdown",
   "metadata": {},
   "source": [
    "#### 3. Please explain what are the similarities and differences of L1 loss and MSE loss in training a classifier?\n",
    "\n",
    "##### Similarities\n",
    "- 2 loss functions calculate the differences between the predicted value and actual values.\n",
    "- Commonly used for regression instead of classification. Because in classification, class label will be a one-hot encoded vector or 0, 1 or multi class, the difference of predicted and actual values will be always 0 or 1 (correct and not correct) and then it can not help to update the parameter.\n",
    "\n",
    "##### Differences\n",
    "- L1 loss uses mean square error and MAE loss uses mean absolute error."
   ]
  },
  {
   "cell_type": "markdown",
   "metadata": {
    "id": "esyKtc4Sl0on"
   },
   "source": [
    "# Task 2 ：Python programming (8 marks)\n",
    "\n",
    "1. Given a list of numbers: num=[1, 2, 3, 4, 5, 6, 7, 8, 9, 10, 11, 12, 13, 14, 15], write python code that finds all odd numbers in a list and returns a new list that contains all the odd numbers (2 marks)."
   ]
  },
  {
   "cell_type": "code",
   "execution_count": 1,
   "metadata": {},
   "outputs": [
    {
     "name": "stdout",
     "output_type": "stream",
     "text": [
      "[1, 3, 5, 7, 9, 11, 13, 15]\n"
     ]
    }
   ],
   "source": [
    "def get_list_odd_numbers(num):\n",
    "    # Return list odd numbers\n",
    "    result = []\n",
    "    \n",
    "    for item in num:\n",
    "        # If item not divided by 2, this item is a odd number\n",
    "        if (item % 2) != 0:\n",
    "            # Add a odd number to result\n",
    "            result.append(item)\n",
    "    \n",
    "    # Return result\n",
    "    return result\n",
    "\n",
    "num=[1, 2, 3, 4, 5, 6, 7, 8, 9, 10, 11, 12, 13, 14, 15]\n",
    "list_odd_numbers = get_list_odd_numbers(num)\n",
    "\n",
    "print(list_odd_numbers)"
   ]
  },
  {
   "cell_type": "markdown",
   "metadata": {
    "id": "xtRQVLwFl-Tn"
   },
   "source": [
    "2. The “carry” means if the summation of one digital position is greater than 10, an another 1 will be added to the next position. Please write python code to count the number of the “carry” operations. For example, 123+456 has no \"carry\" as neither of 3+6，2+5, 1+4 is greater than 10. Some other examples are as below (3 marks):\n",
    "\n",
    "> **Example 1:**\n",
    "\n",
    "> Input: \n",
    "> 123+456\n",
    "\n",
    "> Output:\n",
    "> No carry operation.\n",
    "\n",
    "> **Example 2:**\n",
    "\n",
    "> Input: \n",
    "> 555+555\n",
    "\n",
    "> Output:\n",
    "> 3 carry operations.\n",
    "\n",
    "> **Example 3:**\n",
    "\n",
    "> Input: \n",
    "> 123+594\n",
    "\n",
    "> Output:\n",
    "> 1 carry operation.\n"
   ]
  },
  {
   "cell_type": "code",
   "execution_count": 2,
   "metadata": {},
   "outputs": [
    {
     "name": "stdout",
     "output_type": "stream",
     "text": [
      "No carry operation.\n",
      "3 carry operations.\n",
      "1 carry operations.\n"
     ]
    }
   ],
   "source": [
    "def count_number_of_carry(input_string):\n",
    "    # Remove spaces\n",
    "    input_string = input_string.strip().replace(\" \", \"\")\n",
    "    \n",
    "    # Split add operator\n",
    "    split = input_string.split(\"+\")\n",
    "    \n",
    "    # Get first number\n",
    "    first_number = split[0]\n",
    "    length_first_number = len(first_number)\n",
    "    \n",
    "    # Get second number\n",
    "    second_number = split[1]\n",
    "    length_second_number = len(second_number)\n",
    "    \n",
    "    # Number of carry operations\n",
    "    number_of_carry = 0\n",
    "    \n",
    "    # Carry after a summary\n",
    "    carry = 0\n",
    "    \n",
    "    # Start index from -1, begin from the last character\n",
    "    index = -1\n",
    "    \n",
    "    # Stop until index out of range\n",
    "    while abs(index) <= length_first_number and abs(index) <= length_second_number:\n",
    "        # Calculate summary with carry\n",
    "        temp = int(first_number[index]) + int(second_number[index]) + carry\n",
    "        \n",
    "        # Reset carry to 0\n",
    "        carry = 0\n",
    "        \n",
    "        # Check summary larger or equal than 10\n",
    "        if temp >= 10:\n",
    "            number_of_carry += 1\n",
    "            carry = 1\n",
    "        \n",
    "        index -= 1\n",
    "        \n",
    "    if number_of_carry > 0:\n",
    "        return f\"{number_of_carry} carry operations.\"\n",
    "    \n",
    "    return \"No carry operation.\"\n",
    "    \n",
    "print(count_number_of_carry(\"123+456\"))\n",
    "print(count_number_of_carry(\"555+555\"))\n",
    "print(count_number_of_carry(\"123+594\"))"
   ]
  },
  {
   "cell_type": "markdown",
   "metadata": {
    "id": "FNo6I-vMmFRR"
   },
   "source": [
    "3. Roman numerals are represented by seven different symbols: I (=1) , V (=5), X(=10), L (=50), C(=100), D (=500) and M(=1000). For example, 2 is written as 'II' in Roman numeral, just two 'I' added together. The number 27 is written as XXVII, which is XX + V + II. Your task is to write a Python code that recognizes the roman numbers. The input and output should be in the format as shown below (3 marks):\n",
    "\n",
    ">**Example 1:**\n",
    "\n",
    ">Input: s = \"III\"\n",
    "\n",
    ">Output: 3\n",
    "\n",
    ">**Example 2:**\n",
    "\n",
    ">Input: s = \"LVIII\"\n",
    "\n",
    ">Output: 58\n",
    "\n",
    ">**Example 3:**\n",
    "\n",
    ">Input: s = \"MCMXCIV\"\n",
    "\n",
    ">Output: 1994\n",
    "\n",
    "\n"
   ]
  },
  {
   "cell_type": "code",
   "execution_count": 3,
   "metadata": {},
   "outputs": [
    {
     "name": "stdout",
     "output_type": "stream",
     "text": [
      "3\n",
      "58\n",
      "1994\n"
     ]
    }
   ],
   "source": [
    "def get_number_from_roman_numerals(input_string):\n",
    "    # Utility function: convert a character in (I, V, X, L, C, M) to a number\n",
    "    def convert_a_character_to_number(char):\n",
    "        if char == \"I\":\n",
    "            return 1\n",
    "        if char == \"V\":\n",
    "            return 5\n",
    "        if char == \"X\":\n",
    "            return 10\n",
    "        if char == \"L\":\n",
    "            return 50\n",
    "        if char == \"C\":\n",
    "            return 100\n",
    "        if char == \"D\":\n",
    "            return 500\n",
    "        if char == \"M\":\n",
    "            return 1000\n",
    "        \n",
    "        raise SyntaxError(f\"{char} is not valid\")\n",
    "    \n",
    "    # Strip input\n",
    "    input_string = input_string.strip()\n",
    "\n",
    "    # If input is empty, return blank\n",
    "    if len(input_string) == 0:\n",
    "        return \"\"\n",
    "    \n",
    "    # Result\n",
    "    result = 0\n",
    "    \n",
    "    # Put all numbers to queue\n",
    "    queue = list()\n",
    "    for char in input_string:\n",
    "        queue.append(convert_a_character_to_number(char))\n",
    "\n",
    "    # If current number is larger or equal to next number \n",
    "    # or current number is the last number add current number to result.\n",
    "    # Else minus current number to result\n",
    "    current_number = None\n",
    "    next_number = None\n",
    "    while True:\n",
    "        # Get current number\n",
    "        if next_number is None:\n",
    "            current_number = queue.pop(0)\n",
    "        else:\n",
    "            current_number = next_number\n",
    "        \n",
    "        # Get next number\n",
    "        try:\n",
    "            next_number = queue.pop(0)\n",
    "        except:\n",
    "            # queue is empty, can not get any number\n",
    "            result += current_number\n",
    "            \n",
    "            # Break the while loop\n",
    "            break\n",
    "        \n",
    "        # If current number is larger or equal to next number, add current_number to result\n",
    "        # Else minus next number to result\n",
    "        if current_number >= next_number:\n",
    "            result += current_number\n",
    "        else:\n",
    "            result -= current_number\n",
    "\n",
    "    return result\n",
    "\n",
    "s = \"III\"\n",
    "print(get_number_from_roman_numerals(s))\n",
    "s = \"LVIII\"\n",
    "print(get_number_from_roman_numerals(s))\n",
    "s = \"MCMXCIV\"\n",
    "print(get_number_from_roman_numerals(s))"
   ]
  },
  {
   "cell_type": "markdown",
   "metadata": {
    "id": "TjTd8XaYnFLb"
   },
   "source": [
    "# Task 3 : Algorithm Programming (7 marks)\n",
    "\n",
    "1. Download the MNIST dataset and split the dataset into a training set (70% of the data), validation set (10% of the data) and testing set (20% of the data) (1 Mark).\n",
    "\n",
    "2. Build a classifier with three convolutional layers with pyTorch 1.2.0 (cpu version) (2 Marks).\n",
    "\n",
    "3. Successfully train the classifier and record the accuracy on the testing set. Please note that you will need to use all the three subsets you got in 1. (2 Marks).\n",
    "4. Please draw the loss curves and accuracy curves for both the training and validation set. You have to use Matplotlib to draw the figure.(2 Marks).\n",
    "\n",
    "\n",
    "\n",
    "\n",
    "\n",
    "\n"
   ]
  },
  {
   "cell_type": "markdown",
   "metadata": {},
   "source": [
    "#### 1. Download the MNIST dataset and split the dataset into a training set (70% of the data), validation set (10% of the data) and testing set (20% of the data)"
   ]
  },
  {
   "cell_type": "code",
   "execution_count": 4,
   "metadata": {
    "scrolled": false
   },
   "outputs": [
    {
     "name": "stdout",
     "output_type": "stream",
     "text": [
      "The whold mnist dataset size is 70000\n",
      "Training dataset size is 49000\n",
      "Validation dataset size is 7000\n",
      "Test dataset size is 14000\n",
      "\n",
      "Data visualization for the first 64 items in training dataset:\n",
      "Labels:  tensor([6, 5, 8, 9, 1, 9, 2, 8, 1, 3, 8, 1, 2, 1, 8, 6, 0, 0, 3, 0, 6, 8, 6, 7,\n",
      "        6, 2, 2, 0, 0, 2, 7, 4, 4, 3, 3, 5, 2, 1, 5, 9, 4, 8, 8, 5, 3, 4, 1, 2,\n",
      "        9, 3, 0, 3, 9, 9, 6, 4, 6, 8, 7, 9, 0, 0, 9, 7])\n",
      "Batch shape:  torch.Size([64, 1, 28, 28])\n"
     ]
    },
    {
     "data": {
      "image/png": "[encoded data removed]",
      "text/plain": [
       "<Figure size 432x288 with 1 Axes>"
      ]
     },
     "metadata": {
      "needs_background": "light"
     },
     "output_type": "display_data"
    }
   ],
   "source": [
    "import numpy as np\n",
    "import matplotlib.pyplot as plt\n",
    "\n",
    "import torch\n",
    "import torch.nn.functional as F\n",
    "import torchvision\n",
    "\n",
    "from torch import nn, optim\n",
    "from torch.utils.data import DataLoader, random_split\n",
    "\n",
    "from torchvision import datasets, transforms\n",
    "from torchvision.transforms import ToTensor\n",
    "\n",
    "from sklearn.model_selection import KFold\n",
    "\n",
    "# 1.1. Download MNIST dataset\n",
    "train_data = datasets.MNIST(root = 'data', train = True, transform = ToTensor(), download = True)\n",
    "test_data = datasets.MNIST(root = 'data', train = False, transform = ToTensor())\n",
    "\n",
    "# Combination 2 data set to get the whole data set\n",
    "mnist = torch.utils.data.ConcatDataset([train_data, test_data])\n",
    "\n",
    "# Get size of whole dataset\n",
    "mnist_size = 0\n",
    "for dataset in mnist.datasets:\n",
    "    mnist_size += len(dataset)\n",
    "print(\"The whold mnist dataset size is\", mnist_size)\n",
    "\n",
    "# 1.2. Get training_set (70% of the data), validation_set (10% of the data), test_set (20% of the data)\n",
    "# Calculate number of items in each dataset\n",
    "training_count = int(0.7 * mnist_size) # 70% of the data\n",
    "validation_count = int(0.1 * mnist_size) # 10% of the data\n",
    "test_count = mnist_size - training_count - validation_count # 20% of the data\n",
    "\n",
    "# Split the whole dataset into 3 subset: traininig set, validationg set and test set\n",
    "training_set, validation_set, test_set = torch.utils.data.random_split(\n",
    "    mnist, \n",
    "    [training_count, validation_count, test_count], \n",
    "    generator=torch.Generator().manual_seed(42))\n",
    "\n",
    "print(\"Training dataset size is\", len(training_set))\n",
    "print(\"Validation dataset size is\", len(validation_set))\n",
    "print(\"Test dataset size is\", len(test_set))\n",
    "print()\n",
    "\n",
    "# Create dataloader with 3 categories: training, validation and test\n",
    "BATCH_SIZE = 64\n",
    "loaders = {\n",
    "    'training' : torch.utils.data.DataLoader(training_set, \n",
    "                                          batch_size=BATCH_SIZE, \n",
    "                                          shuffle=True, \n",
    "                                          num_workers=1),\n",
    "    \n",
    "    'validation' : torch.utils.data.DataLoader(validation_set, \n",
    "                                          batch_size=BATCH_SIZE, \n",
    "                                          shuffle=True, \n",
    "                                          num_workers=1),\n",
    "    \n",
    "    'test'  : torch.utils.data.DataLoader(test_set, \n",
    "                                          batch_size=BATCH_SIZE, \n",
    "                                          shuffle=True, \n",
    "                                          num_workers=1),\n",
    "}\n",
    "\n",
    "\n",
    "# Data visualization\n",
    "print(f\"Data visualization for the first {BATCH_SIZE} items in training dataset:\")\n",
    "def visualization(batch):\n",
    "    im = torchvision.utils.make_grid(batch)\n",
    "    plt.imshow(np.transpose(im.numpy(), (1, 2, 0)))\n",
    "    \n",
    "data_iter = iter(loaders['training'])\n",
    "images, labels = data_iter.next()\n",
    "\n",
    "print('Labels: ', labels)\n",
    "print('Batch shape: ', images.size())\n",
    "visualization(images)"
   ]
  },
  {
   "cell_type": "markdown",
   "metadata": {},
   "source": [
    "#### 2. Build a classifier with three convolutional layers with pyTorch 1.2.0 (cpu version)"
   ]
  },
  {
   "cell_type": "code",
   "execution_count": 8,
   "metadata": {
    "scrolled": false
   },
   "outputs": [
    {
     "name": "stdout",
     "output_type": "stream",
     "text": [
      "NeuralNetwork(\n",
      "  (conv1): Sequential(\n",
      "    (0): Conv2d(1, 16, kernel_size=(5, 5), stride=(1, 1), padding=(2, 2))\n",
      "    (1): ReLU()\n",
      "    (2): MaxPool2d(kernel_size=2, stride=2, padding=0, dilation=1, ceil_mode=False)\n",
      "  )\n",
      "  (conv2): Sequential(\n",
      "    (0): Conv2d(16, 32, kernel_size=(5, 5), stride=(1, 1), padding=(2, 2))\n",
      "    (1): ReLU()\n",
      "  )\n",
      "  (conv3): Sequential(\n",
      "    (0): Conv2d(32, 64, kernel_size=(5, 5), stride=(1, 1), padding=(2, 2))\n",
      "    (1): ReLU()\n",
      "    (2): MaxPool2d(kernel_size=2, stride=2, padding=0, dilation=1, ceil_mode=False)\n",
      "  )\n",
      "  (out): Linear(in_features=3136, out_features=10, bias=True)\n",
      ")\n"
     ]
    }
   ],
   "source": [
    "# 2.1. Build a class neural network with 3 convolutional layers\n",
    "class NeuralNetwork(nn.Module):\n",
    "    # Declaring the Architecture\n",
    "    def __init__(self):\n",
    "        super(NeuralNetwork,self).__init__()\n",
    "        # output of each convolutional layer = [(in_channel + 2*padding - kernel_size) / stride] + 1\n",
    "        \n",
    "        # The first convolutional layer\n",
    "        self.conv1 = nn.Sequential(         \n",
    "            nn.Conv2d(\n",
    "                in_channels=1, # input is a gray image 28x28 => in channel = 1          \n",
    "                out_channels=16,            \n",
    "                kernel_size=5,              \n",
    "                stride=1,                   \n",
    "                padding=2,                  \n",
    "            ),                              \n",
    "            nn.ReLU(),                      \n",
    "            nn.MaxPool2d(kernel_size=2),    \n",
    "        )\n",
    "        # After the first convolutional layer the output of this layer is:\n",
    "        # [(28 + 2*2 - 5)/1] + 1 = 28.\n",
    "        # Since maxpooling with kernel_size=2 are used, the output is divided by 2\n",
    "        # 28 / 2 = 14\n",
    "        \n",
    "        # The second convolutional layer\n",
    "        self.conv2 = nn.Sequential(         \n",
    "            nn.Conv2d(\n",
    "                in_channels=16,              \n",
    "                out_channels=32,            \n",
    "                kernel_size=5,              \n",
    "                stride=1,                   \n",
    "                padding=2,                  \n",
    "            ),           \n",
    "            nn.ReLU()               \n",
    "        )\n",
    "        # After the second convolutional layer the output of this layer is:\n",
    "        # [(14 + 2*2 - 5)/1 + 1] = 14\n",
    "        \n",
    "        # The third convolutional layer\n",
    "        self.conv3 = nn.Sequential(         \n",
    "            nn.Conv2d(\n",
    "                in_channels=32,              \n",
    "                out_channels=64,            \n",
    "                kernel_size=5,              \n",
    "                stride=1,                   \n",
    "                padding=2,                  \n",
    "            ),           \n",
    "            nn.ReLU(),                      \n",
    "            nn.MaxPool2d(kernel_size=2),                \n",
    "       )\n",
    "        # After the third convolutional layer the output of this layer is:\n",
    "        # [(14 + 2*2 - 5)/1 + 1] = 14\n",
    "        # Since maxpooling with kernel_size=2 are used, the output is divided by 2\n",
    "        # 14/2 = 7\n",
    "        \n",
    "        # out channel of the third convolutional layer is 64\n",
    "        # output of the third convolutional is 7\n",
    "        # output layer with 10 classes\n",
    "        self.out = nn.Linear(64*7*7, 10)\n",
    "        \n",
    "    # Forward Pass\n",
    "    def forward(self, x):\n",
    "        x = self.conv1(x)\n",
    "        x = self.conv2(x)\n",
    "        x = self.conv3(x)\n",
    "        \n",
    "        # Flatten the images\n",
    "        x = x.view(x.shape[0],-1)\n",
    "        \n",
    "        x = self.out(x)\n",
    "        \n",
    "        return x\n",
    "\n",
    "# Hyperparameters\n",
    "# epochs: number times that the learning algorithm will work through the entire training dataset.\n",
    "epochs = 5\n",
    "# Learning rate\n",
    "learning_rate = 0.01\n",
    "\n",
    "model = NeuralNetwork()\n",
    "print(model)    \n",
    "    \n",
    "# Define the loss function\n",
    "criterion = nn.CrossEntropyLoss()\n",
    "\n",
    "# Define the optimizer function\n",
    "optimizer = torch.optim.SGD(model.parameters(), lr = learning_rate)"
   ]
  },
  {
   "cell_type": "markdown",
   "metadata": {},
   "source": [
    "#### 3. Successfully train the classifier and record the accuracy on the testing set. Please note that you will need to use all the three subsets you got in 1"
   ]
  },
  {
   "cell_type": "code",
   "execution_count": 9,
   "metadata": {},
   "outputs": [
    {
     "name": "stdout",
     "output_type": "stream",
     "text": [
      "Epoch 1\n",
      "Training Loss: 0.853074503318448\n",
      "Training Accuracy: 74.50%\n",
      "Validation Loss: 0.2624932405623523\n",
      "Validation Accuracy: 91.89%\n",
      "\n",
      "Epoch 2\n",
      "Training Loss: 0.1949362678030219\n",
      "Training Accuracy: 94.21%\n",
      "Validation Loss: 0.15207680590789427\n",
      "Validation Accuracy: 95.29%\n",
      "\n",
      "Epoch 3\n",
      "Training Loss: 0.12757379316795356\n",
      "Training Accuracy: 96.13%\n",
      "Validation Loss: 0.1050453217361461\n",
      "Validation Accuracy: 96.81%\n",
      "\n",
      "Epoch 4\n",
      "Training Loss: 0.09828945720329997\n",
      "Training Accuracy: 96.98%\n",
      "Validation Loss: 0.08848543064668775\n",
      "Validation Accuracy: 97.27%\n",
      "\n",
      "Epoch 5\n",
      "Training Loss: 0.08237226354322996\n",
      "Training Accuracy: 97.49%\n",
      "Validation Loss: 0.07581766597418622\n",
      "Validation Accuracy: 97.59%\n",
      "\n",
      "Test model with test dataset\n",
      "Number of correct predictions: 13659\n",
      "Number of samples: 14000\n",
      "Accuracy: 97.56%\n"
     ]
    }
   ],
   "source": [
    "# min_valid_loss = np.inf\n",
    "\n",
    "# List loss to draw loss curves\n",
    "train_loss_lst = []\n",
    "valid_loss_lst = []\n",
    "\n",
    "# 3.1. Training and validate model\n",
    "for e in range(epochs):\n",
    "    model.train()\n",
    "    \n",
    "    # loss in each epoch\n",
    "    train_epoch_loss = []\n",
    "    valid_epoch_loss = []\n",
    "    \n",
    "    # training model\n",
    "    train_loss = 0.0\n",
    "    train_num_correct = 0.0\n",
    "    train_num_samples = 0.0\n",
    "    for data, labels in loaders['training']:\n",
    "        \n",
    "        # Clear the gradients\n",
    "        optimizer.zero_grad()\n",
    "        \n",
    "        # Forward Pass\n",
    "        target = model(data)\n",
    "        \n",
    "        # Find the Loss\n",
    "        loss = criterion(target,labels)\n",
    "        \n",
    "        # Calculate gradients\n",
    "        loss.backward()\n",
    "        \n",
    "        # Update Weights\n",
    "        optimizer.step()\n",
    "        \n",
    "        # Calculate Loss\n",
    "        train_loss += loss.item()\n",
    "        train_epoch_loss.append(loss.item())\n",
    "        \n",
    "        _, predictions = target.max(1)\n",
    "        train_num_correct += (predictions == labels).sum()\n",
    "        train_num_samples += predictions.size(0)\n",
    "     \n",
    "    # Append average training loss of a epoch to train_loss_lst\n",
    "    train_loss_lst.append(sum(train_epoch_loss) / len(train_epoch_loss))\n",
    "    \n",
    "    # ----------------------------------------------------------\n",
    "    # validating model\n",
    "    model.eval()\n",
    "    \n",
    "    valid_loss = 0.0\n",
    "    validation_num_correct = 0.0\n",
    "    validation_num_samples = 0.0\n",
    "    for data, labels in loaders['validation']:\n",
    "         \n",
    "        # Forward Pass\n",
    "        target = model(data)\n",
    "        \n",
    "        # Find the Loss\n",
    "        loss = criterion(target,labels)\n",
    "        \n",
    "        # Calculate Loss\n",
    "        valid_loss += loss.item()\n",
    "        valid_epoch_loss.append(loss.item())\n",
    "        \n",
    "        _, predictions = target.max(1)\n",
    "        validation_num_correct += (predictions == labels).sum()\n",
    "        validation_num_samples += predictions.size(0)\n",
    "    \n",
    "    # Append average validation loss of a epoch to valid_loss_lst\n",
    "    valid_loss_lst.append(sum(valid_epoch_loss) / len(valid_epoch_loss))\n",
    "    \n",
    "    # Print training loss and validation loss of each epoch\n",
    "    print(f'Epoch {e+1}')\n",
    "    print(f'Training Loss: {train_loss / len(loaders[\"training\"])}')\n",
    "    print(f'Training Accuracy: {float(train_num_correct)/float(train_num_samples)*100:.2f}%') \n",
    "    print(f'Validation Loss: {valid_loss / len(loaders[\"validation\"])}')\n",
    "    print(f'Validation Accuracy: {float(validation_num_correct)/float(validation_num_samples)*100:.2f}%') \n",
    "    print()\n",
    "         \n",
    "# 3.2. Test model\n",
    "def test(loader, model):\n",
    "    num_correct = 0\n",
    "    num_samples = 0\n",
    "    model.eval()\n",
    "    \n",
    "    with torch.no_grad():\n",
    "        for data, label in loader:\n",
    "            scores = model(data)\n",
    "            _, predictions = scores.max(1)\n",
    "            num_correct += (predictions == label).sum()\n",
    "            num_samples += predictions.size(0)\n",
    "        print(\"Test model with test dataset\")\n",
    "        print(f'Number of correct predictions: {num_correct}')\n",
    "        print(f'Number of samples: {num_samples}')\n",
    "        print(f'Accuracy: {float(num_correct)/float(num_samples)*100:.2f}%') \n",
    "    \n",
    "    model.train()\n",
    "    \n",
    "test(loaders['test'], model)\n"
   ]
  },
  {
   "cell_type": "markdown",
   "metadata": {},
   "source": [
    "#### 4. Please draw the loss curves and accuracy curves for both the training and validation set. You have to use Matplotlib to draw the figure"
   ]
  },
  {
   "cell_type": "code",
   "execution_count": 10,
   "metadata": {},
   "outputs": [
    {
     "data": {
      "image/png": "[encoded data removed]",
      "text/plain": [
       "<Figure size 432x288 with 1 Axes>"
      ]
     },
     "metadata": {
      "needs_background": "light"
     },
     "output_type": "display_data"
    }
   ],
   "source": [
    "# Plotting\n",
    "plt.plot(np.linspace(1, epochs, epochs).astype(int), train_loss_lst, '-b', label='Training')\n",
    "plt.plot(np.linspace(1, epochs, epochs).astype(int), valid_loss_lst, '-r', label='Validation')\n",
    "plt.legend()\n",
    "plt.xlabel(\"Epochs\")\n",
    "plt.ylabel(\"Loss\")\n",
    "plt.show()"
   ]
  }
 ],
 "metadata": {
  "colab": {
   "name": "Assignment_1_7327.ipynb",
   "provenance": []
  },
  "kernelspec": {
   "display_name": "Python 3 (ipykernel)",
   "language": "python",
   "name": "python3"
  },
  "language_info": {
   "codemirror_mode": {
    "name": "ipython",
    "version": 3
   },
   "file_extension": ".py",
   "mimetype": "text/x-python",
   "name": "python",
   "nbconvert_exporter": "python",
   "pygments_lexer": "ipython3",
   "version": "3.9.12"
  }
 },
 "nbformat": 4,
 "nbformat_minor": 1
}
